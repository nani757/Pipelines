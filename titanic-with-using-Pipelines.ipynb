{
 "cells": [
  {
   "cell_type": "code",
   "execution_count": 1,
   "id": "d012ef54",
   "metadata": {},
   "outputs": [],
   "source": [
    "import pandas as pd\n",
    "import numpy as np\n",
    "\n",
    "from sklearn.model_selection import train_test_split\n",
    "from sklearn.compose import ColumnTransformer\n",
    "from sklearn.impute import SimpleImputer\n",
    "from sklearn.preprocessing import OneHotEncoder\n",
    "from sklearn.preprocessing import MinMaxScaler\n",
    "from sklearn.pipeline import Pipeline,make_pipeline\n",
    "from sklearn.feature_selection import SelectKBest,chi2\n",
    "from sklearn.tree import DecisionTreeClassifier"
   ]
  },
  {
   "cell_type": "code",
   "execution_count": 2,
   "id": "a8d4518e",
   "metadata": {},
   "outputs": [
    {
     "data": {
      "text/html": [
       "<div>\n",
       "<style scoped>\n",
       "    .dataframe tbody tr th:only-of-type {\n",
       "        vertical-align: middle;\n",
       "    }\n",
       "\n",
       "    .dataframe tbody tr th {\n",
       "        vertical-align: top;\n",
       "    }\n",
       "\n",
       "    .dataframe thead th {\n",
       "        text-align: right;\n",
       "    }\n",
       "</style>\n",
       "<table border=\"1\" class=\"dataframe\">\n",
       "  <thead>\n",
       "    <tr style=\"text-align: right;\">\n",
       "      <th></th>\n",
       "      <th>PassengerId</th>\n",
       "      <th>Survived</th>\n",
       "      <th>Pclass</th>\n",
       "      <th>Name</th>\n",
       "      <th>Sex</th>\n",
       "      <th>Age</th>\n",
       "      <th>SibSp</th>\n",
       "      <th>Parch</th>\n",
       "      <th>Ticket</th>\n",
       "      <th>Fare</th>\n",
       "      <th>Cabin</th>\n",
       "      <th>Embarked</th>\n",
       "    </tr>\n",
       "  </thead>\n",
       "  <tbody>\n",
       "    <tr>\n",
       "      <th>624</th>\n",
       "      <td>625</td>\n",
       "      <td>0</td>\n",
       "      <td>3</td>\n",
       "      <td>Bowen, Mr. David John \"Dai\"</td>\n",
       "      <td>male</td>\n",
       "      <td>21.0</td>\n",
       "      <td>0</td>\n",
       "      <td>0</td>\n",
       "      <td>54636</td>\n",
       "      <td>16.1000</td>\n",
       "      <td>NaN</td>\n",
       "      <td>S</td>\n",
       "    </tr>\n",
       "    <tr>\n",
       "      <th>170</th>\n",
       "      <td>171</td>\n",
       "      <td>0</td>\n",
       "      <td>1</td>\n",
       "      <td>Van der hoef, Mr. Wyckoff</td>\n",
       "      <td>male</td>\n",
       "      <td>61.0</td>\n",
       "      <td>0</td>\n",
       "      <td>0</td>\n",
       "      <td>111240</td>\n",
       "      <td>33.5000</td>\n",
       "      <td>B19</td>\n",
       "      <td>S</td>\n",
       "    </tr>\n",
       "    <tr>\n",
       "      <th>287</th>\n",
       "      <td>288</td>\n",
       "      <td>0</td>\n",
       "      <td>3</td>\n",
       "      <td>Naidenoff, Mr. Penko</td>\n",
       "      <td>male</td>\n",
       "      <td>22.0</td>\n",
       "      <td>0</td>\n",
       "      <td>0</td>\n",
       "      <td>349206</td>\n",
       "      <td>7.8958</td>\n",
       "      <td>NaN</td>\n",
       "      <td>S</td>\n",
       "    </tr>\n",
       "    <tr>\n",
       "      <th>820</th>\n",
       "      <td>821</td>\n",
       "      <td>1</td>\n",
       "      <td>1</td>\n",
       "      <td>Hays, Mrs. Charles Melville (Clara Jennings Gr...</td>\n",
       "      <td>female</td>\n",
       "      <td>52.0</td>\n",
       "      <td>1</td>\n",
       "      <td>1</td>\n",
       "      <td>12749</td>\n",
       "      <td>93.5000</td>\n",
       "      <td>B69</td>\n",
       "      <td>S</td>\n",
       "    </tr>\n",
       "    <tr>\n",
       "      <th>81</th>\n",
       "      <td>82</td>\n",
       "      <td>1</td>\n",
       "      <td>3</td>\n",
       "      <td>Sheerlinck, Mr. Jan Baptist</td>\n",
       "      <td>male</td>\n",
       "      <td>29.0</td>\n",
       "      <td>0</td>\n",
       "      <td>0</td>\n",
       "      <td>345779</td>\n",
       "      <td>9.5000</td>\n",
       "      <td>NaN</td>\n",
       "      <td>S</td>\n",
       "    </tr>\n",
       "  </tbody>\n",
       "</table>\n",
       "</div>"
      ],
      "text/plain": [
       "     PassengerId  Survived  Pclass  \\\n",
       "624          625         0       3   \n",
       "170          171         0       1   \n",
       "287          288         0       3   \n",
       "820          821         1       1   \n",
       "81            82         1       3   \n",
       "\n",
       "                                                  Name     Sex   Age  SibSp  \\\n",
       "624                        Bowen, Mr. David John \"Dai\"    male  21.0      0   \n",
       "170                          Van der hoef, Mr. Wyckoff    male  61.0      0   \n",
       "287                               Naidenoff, Mr. Penko    male  22.0      0   \n",
       "820  Hays, Mrs. Charles Melville (Clara Jennings Gr...  female  52.0      1   \n",
       "81                         Sheerlinck, Mr. Jan Baptist    male  29.0      0   \n",
       "\n",
       "     Parch  Ticket     Fare Cabin Embarked  \n",
       "624      0   54636  16.1000   NaN        S  \n",
       "170      0  111240  33.5000   B19        S  \n",
       "287      0  349206   7.8958   NaN        S  \n",
       "820      1   12749  93.5000   B69        S  \n",
       "81       0  345779   9.5000   NaN        S  "
      ]
     },
     "execution_count": 2,
     "metadata": {},
     "output_type": "execute_result"
    }
   ],
   "source": [
    "df = pd.read_csv('Titanic_train.csv')\n",
    "df.sample(5)"
   ]
  },
  {
   "cell_type": "code",
   "execution_count": 3,
   "id": "65fe518e",
   "metadata": {},
   "outputs": [],
   "source": [
    "df.drop(columns=['PassengerId','Name','Ticket','Cabin'],inplace=True)"
   ]
  },
  {
   "cell_type": "code",
   "execution_count": 4,
   "id": "617571a5",
   "metadata": {},
   "outputs": [
    {
     "data": {
      "text/html": [
       "<div>\n",
       "<style scoped>\n",
       "    .dataframe tbody tr th:only-of-type {\n",
       "        vertical-align: middle;\n",
       "    }\n",
       "\n",
       "    .dataframe tbody tr th {\n",
       "        vertical-align: top;\n",
       "    }\n",
       "\n",
       "    .dataframe thead th {\n",
       "        text-align: right;\n",
       "    }\n",
       "</style>\n",
       "<table border=\"1\" class=\"dataframe\">\n",
       "  <thead>\n",
       "    <tr style=\"text-align: right;\">\n",
       "      <th></th>\n",
       "      <th>Survived</th>\n",
       "      <th>Pclass</th>\n",
       "      <th>Sex</th>\n",
       "      <th>Age</th>\n",
       "      <th>SibSp</th>\n",
       "      <th>Parch</th>\n",
       "      <th>Fare</th>\n",
       "      <th>Embarked</th>\n",
       "    </tr>\n",
       "  </thead>\n",
       "  <tbody>\n",
       "    <tr>\n",
       "      <th>5</th>\n",
       "      <td>0</td>\n",
       "      <td>3</td>\n",
       "      <td>male</td>\n",
       "      <td>NaN</td>\n",
       "      <td>0</td>\n",
       "      <td>0</td>\n",
       "      <td>8.4583</td>\n",
       "      <td>Q</td>\n",
       "    </tr>\n",
       "    <tr>\n",
       "      <th>421</th>\n",
       "      <td>0</td>\n",
       "      <td>3</td>\n",
       "      <td>male</td>\n",
       "      <td>21.0</td>\n",
       "      <td>0</td>\n",
       "      <td>0</td>\n",
       "      <td>7.7333</td>\n",
       "      <td>Q</td>\n",
       "    </tr>\n",
       "    <tr>\n",
       "      <th>148</th>\n",
       "      <td>0</td>\n",
       "      <td>2</td>\n",
       "      <td>male</td>\n",
       "      <td>36.5</td>\n",
       "      <td>0</td>\n",
       "      <td>2</td>\n",
       "      <td>26.0000</td>\n",
       "      <td>S</td>\n",
       "    </tr>\n",
       "    <tr>\n",
       "      <th>308</th>\n",
       "      <td>0</td>\n",
       "      <td>2</td>\n",
       "      <td>male</td>\n",
       "      <td>30.0</td>\n",
       "      <td>1</td>\n",
       "      <td>0</td>\n",
       "      <td>24.0000</td>\n",
       "      <td>C</td>\n",
       "    </tr>\n",
       "    <tr>\n",
       "      <th>93</th>\n",
       "      <td>0</td>\n",
       "      <td>3</td>\n",
       "      <td>male</td>\n",
       "      <td>26.0</td>\n",
       "      <td>1</td>\n",
       "      <td>2</td>\n",
       "      <td>20.5750</td>\n",
       "      <td>S</td>\n",
       "    </tr>\n",
       "  </tbody>\n",
       "</table>\n",
       "</div>"
      ],
      "text/plain": [
       "     Survived  Pclass   Sex   Age  SibSp  Parch     Fare Embarked\n",
       "5           0       3  male   NaN      0      0   8.4583        Q\n",
       "421         0       3  male  21.0      0      0   7.7333        Q\n",
       "148         0       2  male  36.5      0      2  26.0000        S\n",
       "308         0       2  male  30.0      1      0  24.0000        C\n",
       "93          0       3  male  26.0      1      2  20.5750        S"
      ]
     },
     "execution_count": 4,
     "metadata": {},
     "output_type": "execute_result"
    }
   ],
   "source": [
    "df.sample(5)"
   ]
  },
  {
   "cell_type": "code",
   "execution_count": 5,
   "id": "0becc4cd",
   "metadata": {},
   "outputs": [],
   "source": [
    "x_train,x_test,y_train,y_test= train_test_split(df.drop(columns=['Survived']),df['Survived'],test_size=0.2,random_state=45)"
   ]
  },
  {
   "cell_type": "code",
   "execution_count": 6,
   "id": "4f9395ef",
   "metadata": {},
   "outputs": [
    {
     "data": {
      "text/html": [
       "<div>\n",
       "<style scoped>\n",
       "    .dataframe tbody tr th:only-of-type {\n",
       "        vertical-align: middle;\n",
       "    }\n",
       "\n",
       "    .dataframe tbody tr th {\n",
       "        vertical-align: top;\n",
       "    }\n",
       "\n",
       "    .dataframe thead th {\n",
       "        text-align: right;\n",
       "    }\n",
       "</style>\n",
       "<table border=\"1\" class=\"dataframe\">\n",
       "  <thead>\n",
       "    <tr style=\"text-align: right;\">\n",
       "      <th></th>\n",
       "      <th>Pclass</th>\n",
       "      <th>Sex</th>\n",
       "      <th>Age</th>\n",
       "      <th>SibSp</th>\n",
       "      <th>Parch</th>\n",
       "      <th>Fare</th>\n",
       "      <th>Embarked</th>\n",
       "    </tr>\n",
       "  </thead>\n",
       "  <tbody>\n",
       "    <tr>\n",
       "      <th>316</th>\n",
       "      <td>2</td>\n",
       "      <td>female</td>\n",
       "      <td>24.0</td>\n",
       "      <td>1</td>\n",
       "      <td>0</td>\n",
       "      <td>26.0000</td>\n",
       "      <td>S</td>\n",
       "    </tr>\n",
       "    <tr>\n",
       "      <th>70</th>\n",
       "      <td>2</td>\n",
       "      <td>male</td>\n",
       "      <td>32.0</td>\n",
       "      <td>0</td>\n",
       "      <td>0</td>\n",
       "      <td>10.5000</td>\n",
       "      <td>S</td>\n",
       "    </tr>\n",
       "    <tr>\n",
       "      <th>220</th>\n",
       "      <td>3</td>\n",
       "      <td>male</td>\n",
       "      <td>16.0</td>\n",
       "      <td>0</td>\n",
       "      <td>0</td>\n",
       "      <td>8.0500</td>\n",
       "      <td>S</td>\n",
       "    </tr>\n",
       "    <tr>\n",
       "      <th>765</th>\n",
       "      <td>1</td>\n",
       "      <td>female</td>\n",
       "      <td>51.0</td>\n",
       "      <td>1</td>\n",
       "      <td>0</td>\n",
       "      <td>77.9583</td>\n",
       "      <td>S</td>\n",
       "    </tr>\n",
       "    <tr>\n",
       "      <th>504</th>\n",
       "      <td>1</td>\n",
       "      <td>female</td>\n",
       "      <td>16.0</td>\n",
       "      <td>0</td>\n",
       "      <td>0</td>\n",
       "      <td>86.5000</td>\n",
       "      <td>S</td>\n",
       "    </tr>\n",
       "  </tbody>\n",
       "</table>\n",
       "</div>"
      ],
      "text/plain": [
       "     Pclass     Sex   Age  SibSp  Parch     Fare Embarked\n",
       "316       2  female  24.0      1      0  26.0000        S\n",
       "70        2    male  32.0      0      0  10.5000        S\n",
       "220       3    male  16.0      0      0   8.0500        S\n",
       "765       1  female  51.0      1      0  77.9583        S\n",
       "504       1  female  16.0      0      0  86.5000        S"
      ]
     },
     "execution_count": 6,
     "metadata": {},
     "output_type": "execute_result"
    }
   ],
   "source": [
    "x_train.sample(5)"
   ]
  },
  {
   "cell_type": "code",
   "execution_count": 7,
   "id": "97ec5b15",
   "metadata": {
    "scrolled": true
   },
   "outputs": [
    {
     "data": {
      "text/plain": [
       "863    0\n",
       "391    1\n",
       "776    0\n",
       "571    1\n",
       "737    1\n",
       "Name: Survived, dtype: int64"
      ]
     },
     "execution_count": 7,
     "metadata": {},
     "output_type": "execute_result"
    }
   ],
   "source": [
    "y_train.sample(5)"
   ]
  },
  {
   "cell_type": "code",
   "execution_count": 8,
   "id": "aa271401",
   "metadata": {},
   "outputs": [
    {
     "name": "stdout",
     "output_type": "stream",
     "text": [
      "<class 'pandas.core.frame.DataFrame'>\n",
      "RangeIndex: 891 entries, 0 to 890\n",
      "Data columns (total 8 columns):\n",
      " #   Column    Non-Null Count  Dtype  \n",
      "---  ------    --------------  -----  \n",
      " 0   Survived  891 non-null    int64  \n",
      " 1   Pclass    891 non-null    int64  \n",
      " 2   Sex       891 non-null    object \n",
      " 3   Age       714 non-null    float64\n",
      " 4   SibSp     891 non-null    int64  \n",
      " 5   Parch     891 non-null    int64  \n",
      " 6   Fare      891 non-null    float64\n",
      " 7   Embarked  889 non-null    object \n",
      "dtypes: float64(2), int64(4), object(2)\n",
      "memory usage: 55.8+ KB\n"
     ]
    }
   ],
   "source": [
    "df.info()"
   ]
  },
  {
   "cell_type": "markdown",
   "id": "d0cbfd33",
   "metadata": {},
   "source": [
    "## Filling missing values"
   ]
  },
  {
   "cell_type": "code",
   "execution_count": 9,
   "id": "4d2ad756",
   "metadata": {
    "scrolled": true
   },
   "outputs": [
    {
     "data": {
      "text/plain": [
       "Survived      0\n",
       "Pclass        0\n",
       "Sex           0\n",
       "Age         177\n",
       "SibSp         0\n",
       "Parch         0\n",
       "Fare          0\n",
       "Embarked      2\n",
       "dtype: int64"
      ]
     },
     "execution_count": 9,
     "metadata": {},
     "output_type": "execute_result"
    }
   ],
   "source": [
    "df.isnull().sum()"
   ]
  },
  {
   "cell_type": "code",
   "execution_count": 10,
   "id": "b90bfe06",
   "metadata": {},
   "outputs": [],
   "source": [
    "# imputation transforming \n",
    "trf1 = ColumnTransformer([\n",
    "    ('impute_age',SimpleImputer(),[2]),# we had used 2 because for calling age from the table in pipelines we should use numbers \n",
    "    ('impute_Embarked',SimpleImputer(strategy = 'most_frequent'),[6])# in pipelines we should use numbers  for calling columns\n",
    "],remainder='passthrough')"
   ]
  },
  {
   "cell_type": "code",
   "execution_count": 11,
   "id": "50e04165",
   "metadata": {},
   "outputs": [],
   "source": [
    "# one hot encoding\n",
    "trf2 = ColumnTransformer([\n",
    "    ('ohe_sex_embarked',OneHotEncoder(sparse=False,handle_unknown='ignore'),[1,6])# ww have not used drop first becouse we are using DecisionTreeClassifier \n",
    "],remainder='passthrough')"
   ]
  },
  {
   "cell_type": "code",
   "execution_count": 12,
   "id": "7d6f27ed",
   "metadata": {},
   "outputs": [],
   "source": [
    "# Scaling\n",
    "trf3 = ColumnTransformer([\n",
    "    ('scale',MinMaxScaler(),slice(0,10))\n",
    "])"
   ]
  },
  {
   "cell_type": "code",
   "execution_count": 13,
   "id": "ea18a93a",
   "metadata": {},
   "outputs": [],
   "source": [
    "# Feature selection\n",
    "trf4 = SelectKBest(score_func=chi2,k=8)# hear the \"K\" meaning is to take beat 8  features"
   ]
  },
  {
   "cell_type": "code",
   "execution_count": 14,
   "id": "953ebdff",
   "metadata": {},
   "outputs": [],
   "source": [
    "trf5 = DecisionTreeClassifier()"
   ]
  },
  {
   "cell_type": "markdown",
   "id": "dbb5f1b8",
   "metadata": {},
   "source": [
    "## Create Pipeline"
   ]
  },
  {
   "cell_type": "code",
   "execution_count": 15,
   "id": "3e2a5192",
   "metadata": {},
   "outputs": [],
   "source": [
    "pipe = Pipeline([\n",
    "    ('trf1',trf1),\n",
    "    ('trf2',trf2),\n",
    "    ('trf3',trf3),\n",
    "    ('trf4',trf4),\n",
    "    ('trf5',trf5)\n",
    "])"
   ]
  },
  {
   "cell_type": "markdown",
   "id": "e48a873f",
   "metadata": {},
   "source": [
    "## Pipeline Vs make_pipeline\n",
    "Pipeline requires naming of steps, make_pipeline does not.\n",
    "\n",
    "\n",
    "\n",
    "\n",
    "\n",
    "(Same applies to ColumnTransformer vs make_column_transformer)"
   ]
  },
  {
   "cell_type": "raw",
   "id": "9b964c7f",
   "metadata": {},
   "source": [
    "# Alternate Syntax\n",
    "pipe = make_pipeline(trf1,trf2,trf3,trf4,trf5)"
   ]
  },
  {
   "cell_type": "markdown",
   "id": "8a5df59a",
   "metadata": {},
   "source": [
    "## Explore the Pipeline"
   ]
  },
  {
   "cell_type": "markdown",
   "id": "016697ed",
   "metadata": {},
   "source": [
    "### Aam Zindagi"
   ]
  },
  {
   "cell_type": "code",
   "execution_count": 16,
   "id": "95f3e84f",
   "metadata": {
    "scrolled": false
   },
   "outputs": [
    {
     "data": {
      "text/plain": [
       "Pipeline(steps=[('trf1',\n",
       "                 ColumnTransformer(remainder='passthrough',\n",
       "                                   transformers=[('impute_age', SimpleImputer(),\n",
       "                                                  [2]),\n",
       "                                                 ('impute_Embarked',\n",
       "                                                  SimpleImputer(strategy='most_frequent'),\n",
       "                                                  [6])])),\n",
       "                ('trf2',\n",
       "                 ColumnTransformer(remainder='passthrough',\n",
       "                                   transformers=[('ohe_sex_embarked',\n",
       "                                                  OneHotEncoder(handle_unknown='ignore',\n",
       "                                                                sparse=False),\n",
       "                                                  [1, 6])])),\n",
       "                ('trf3',\n",
       "                 ColumnTransformer(transformers=[('scale', MinMaxScaler(),\n",
       "                                                  slice(0, 10, None))])),\n",
       "                ('trf4',\n",
       "                 SelectKBest(k=8,\n",
       "                             score_func=<function chi2 at 0x0000020B0EBF8A60>)),\n",
       "                ('trf5', DecisionTreeClassifier())])"
      ]
     },
     "execution_count": 16,
     "metadata": {},
     "output_type": "execute_result"
    }
   ],
   "source": [
    "# train\n",
    "pipe.fit(x_train,y_train)"
   ]
  },
  {
   "cell_type": "markdown",
   "id": "d13a15e4",
   "metadata": {},
   "source": [
    "### Mentos Zindagi"
   ]
  },
  {
   "cell_type": "code",
   "execution_count": 17,
   "id": "495fd3e4",
   "metadata": {},
   "outputs": [],
   "source": [
    "# Display Pipeline\n",
    "\n",
    "from sklearn import set_config\n",
    "set_config(display='diagram')"
   ]
  },
  {
   "cell_type": "code",
   "execution_count": 18,
   "id": "aa9453fd",
   "metadata": {},
   "outputs": [
    {
     "data": {
      "text/html": [
       "<style>#sk-a6e953ea-9699-427c-bfc0-c0b7270744b3 {color: black;background-color: white;}#sk-a6e953ea-9699-427c-bfc0-c0b7270744b3 pre{padding: 0;}#sk-a6e953ea-9699-427c-bfc0-c0b7270744b3 div.sk-toggleable {background-color: white;}#sk-a6e953ea-9699-427c-bfc0-c0b7270744b3 label.sk-toggleable__label {cursor: pointer;display: block;width: 100%;margin-bottom: 0;padding: 0.2em 0.3em;box-sizing: border-box;text-align: center;}#sk-a6e953ea-9699-427c-bfc0-c0b7270744b3 div.sk-toggleable__content {max-height: 0;max-width: 0;overflow: hidden;text-align: left;background-color: #f0f8ff;}#sk-a6e953ea-9699-427c-bfc0-c0b7270744b3 div.sk-toggleable__content pre {margin: 0.2em;color: black;border-radius: 0.25em;background-color: #f0f8ff;}#sk-a6e953ea-9699-427c-bfc0-c0b7270744b3 input.sk-toggleable__control:checked~div.sk-toggleable__content {max-height: 200px;max-width: 100%;overflow: auto;}#sk-a6e953ea-9699-427c-bfc0-c0b7270744b3 div.sk-estimator input.sk-toggleable__control:checked~label.sk-toggleable__label {background-color: #d4ebff;}#sk-a6e953ea-9699-427c-bfc0-c0b7270744b3 div.sk-label input.sk-toggleable__control:checked~label.sk-toggleable__label {background-color: #d4ebff;}#sk-a6e953ea-9699-427c-bfc0-c0b7270744b3 input.sk-hidden--visually {border: 0;clip: rect(1px 1px 1px 1px);clip: rect(1px, 1px, 1px, 1px);height: 1px;margin: -1px;overflow: hidden;padding: 0;position: absolute;width: 1px;}#sk-a6e953ea-9699-427c-bfc0-c0b7270744b3 div.sk-estimator {font-family: monospace;background-color: #f0f8ff;margin: 0.25em 0.25em;border: 1px dotted black;border-radius: 0.25em;box-sizing: border-box;}#sk-a6e953ea-9699-427c-bfc0-c0b7270744b3 div.sk-estimator:hover {background-color: #d4ebff;}#sk-a6e953ea-9699-427c-bfc0-c0b7270744b3 div.sk-parallel-item::after {content: \"\";width: 100%;border-bottom: 1px solid gray;flex-grow: 1;}#sk-a6e953ea-9699-427c-bfc0-c0b7270744b3 div.sk-label:hover label.sk-toggleable__label {background-color: #d4ebff;}#sk-a6e953ea-9699-427c-bfc0-c0b7270744b3 div.sk-serial::before {content: \"\";position: absolute;border-left: 1px solid gray;box-sizing: border-box;top: 2em;bottom: 0;left: 50%;}#sk-a6e953ea-9699-427c-bfc0-c0b7270744b3 div.sk-serial {display: flex;flex-direction: column;align-items: center;background-color: white;}#sk-a6e953ea-9699-427c-bfc0-c0b7270744b3 div.sk-item {z-index: 1;}#sk-a6e953ea-9699-427c-bfc0-c0b7270744b3 div.sk-parallel {display: flex;align-items: stretch;justify-content: center;background-color: white;}#sk-a6e953ea-9699-427c-bfc0-c0b7270744b3 div.sk-parallel-item {display: flex;flex-direction: column;position: relative;background-color: white;}#sk-a6e953ea-9699-427c-bfc0-c0b7270744b3 div.sk-parallel-item:first-child::after {align-self: flex-end;width: 50%;}#sk-a6e953ea-9699-427c-bfc0-c0b7270744b3 div.sk-parallel-item:last-child::after {align-self: flex-start;width: 50%;}#sk-a6e953ea-9699-427c-bfc0-c0b7270744b3 div.sk-parallel-item:only-child::after {width: 0;}#sk-a6e953ea-9699-427c-bfc0-c0b7270744b3 div.sk-dashed-wrapped {border: 1px dashed gray;margin: 0.2em;box-sizing: border-box;padding-bottom: 0.1em;background-color: white;position: relative;}#sk-a6e953ea-9699-427c-bfc0-c0b7270744b3 div.sk-label label {font-family: monospace;font-weight: bold;background-color: white;display: inline-block;line-height: 1.2em;}#sk-a6e953ea-9699-427c-bfc0-c0b7270744b3 div.sk-label-container {position: relative;z-index: 2;text-align: center;}#sk-a6e953ea-9699-427c-bfc0-c0b7270744b3 div.sk-container {display: inline-block;position: relative;}</style><div id=\"sk-a6e953ea-9699-427c-bfc0-c0b7270744b3\" class\"sk-top-container\"><div class=\"sk-container\"><div class=\"sk-item sk-dashed-wrapped\"><div class=\"sk-label-container\"><div class=\"sk-label sk-toggleable\"><input class=\"sk-toggleable__control sk-hidden--visually\" id=\"b5185a2b-61d7-4ce1-83e5-5cd697fa15f2\" type=\"checkbox\" ><label class=\"sk-toggleable__label\" for=\"b5185a2b-61d7-4ce1-83e5-5cd697fa15f2\">Pipeline</label><div class=\"sk-toggleable__content\"><pre>Pipeline(steps=[('trf1',\n",
       "                 ColumnTransformer(remainder='passthrough',\n",
       "                                   transformers=[('impute_age', SimpleImputer(),\n",
       "                                                  [2]),\n",
       "                                                 ('impute_Embarked',\n",
       "                                                  SimpleImputer(strategy='most_frequent'),\n",
       "                                                  [6])])),\n",
       "                ('trf2',\n",
       "                 ColumnTransformer(remainder='passthrough',\n",
       "                                   transformers=[('ohe_sex_embarked',\n",
       "                                                  OneHotEncoder(handle_unknown='ignore',\n",
       "                                                                sparse=False),\n",
       "                                                  [1, 6])])),\n",
       "                ('trf3',\n",
       "                 ColumnTransformer(transformers=[('scale', MinMaxScaler(),\n",
       "                                                  slice(0, 10, None))])),\n",
       "                ('trf4',\n",
       "                 SelectKBest(k=8,\n",
       "                             score_func=<function chi2 at 0x0000020B0EBF8A60>)),\n",
       "                ('trf5', DecisionTreeClassifier())])</pre></div></div></div><div class=\"sk-serial\"><div class=\"sk-item sk-dashed-wrapped\"><div class=\"sk-label-container\"><div class=\"sk-label sk-toggleable\"><input class=\"sk-toggleable__control sk-hidden--visually\" id=\"de0922cd-bca8-49c3-a490-ca6d8a8cce7f\" type=\"checkbox\" ><label class=\"sk-toggleable__label\" for=\"de0922cd-bca8-49c3-a490-ca6d8a8cce7f\">trf1: ColumnTransformer</label><div class=\"sk-toggleable__content\"><pre>ColumnTransformer(remainder='passthrough',\n",
       "                  transformers=[('impute_age', SimpleImputer(), [2]),\n",
       "                                ('impute_Embarked',\n",
       "                                 SimpleImputer(strategy='most_frequent'),\n",
       "                                 [6])])</pre></div></div></div><div class=\"sk-parallel\"><div class=\"sk-parallel-item\"><div class=\"sk-item\"><div class=\"sk-label-container\"><div class=\"sk-label sk-toggleable\"><input class=\"sk-toggleable__control sk-hidden--visually\" id=\"887c9e03-f66e-4589-9c77-6296a8e6f1fd\" type=\"checkbox\" ><label class=\"sk-toggleable__label\" for=\"887c9e03-f66e-4589-9c77-6296a8e6f1fd\">impute_age</label><div class=\"sk-toggleable__content\"><pre>[2]</pre></div></div></div><div class=\"sk-serial\"><div class=\"sk-item\"><div class=\"sk-estimator sk-toggleable\"><input class=\"sk-toggleable__control sk-hidden--visually\" id=\"4267c91f-9560-476b-80ea-d886ba2090c9\" type=\"checkbox\" ><label class=\"sk-toggleable__label\" for=\"4267c91f-9560-476b-80ea-d886ba2090c9\">SimpleImputer</label><div class=\"sk-toggleable__content\"><pre>SimpleImputer()</pre></div></div></div></div></div></div><div class=\"sk-parallel-item\"><div class=\"sk-item\"><div class=\"sk-label-container\"><div class=\"sk-label sk-toggleable\"><input class=\"sk-toggleable__control sk-hidden--visually\" id=\"e253a244-b032-49a2-b648-d7f2fa133e23\" type=\"checkbox\" ><label class=\"sk-toggleable__label\" for=\"e253a244-b032-49a2-b648-d7f2fa133e23\">impute_Embarked</label><div class=\"sk-toggleable__content\"><pre>[6]</pre></div></div></div><div class=\"sk-serial\"><div class=\"sk-item\"><div class=\"sk-estimator sk-toggleable\"><input class=\"sk-toggleable__control sk-hidden--visually\" id=\"acf8bfa0-32aa-42e3-9cd7-eafdbd2f1f21\" type=\"checkbox\" ><label class=\"sk-toggleable__label\" for=\"acf8bfa0-32aa-42e3-9cd7-eafdbd2f1f21\">SimpleImputer</label><div class=\"sk-toggleable__content\"><pre>SimpleImputer(strategy='most_frequent')</pre></div></div></div></div></div></div><div class=\"sk-parallel-item\"><div class=\"sk-item\"><div class=\"sk-label-container\"><div class=\"sk-label sk-toggleable\"><input class=\"sk-toggleable__control sk-hidden--visually\" id=\"b307f025-ef02-49bd-b6d3-6ad729b2dfe6\" type=\"checkbox\" ><label class=\"sk-toggleable__label\" for=\"b307f025-ef02-49bd-b6d3-6ad729b2dfe6\">remainder</label><div class=\"sk-toggleable__content\"><pre>['Pclass', 'Sex', 'SibSp', 'Parch', 'Fare']</pre></div></div></div><div class=\"sk-serial\"><div class=\"sk-item\"><div class=\"sk-estimator sk-toggleable\"><input class=\"sk-toggleable__control sk-hidden--visually\" id=\"37e528df-ad19-4ef1-ba7c-3b6551e47f9b\" type=\"checkbox\" ><label class=\"sk-toggleable__label\" for=\"37e528df-ad19-4ef1-ba7c-3b6551e47f9b\">passthrough</label><div class=\"sk-toggleable__content\"><pre>passthrough</pre></div></div></div></div></div></div></div></div><div class=\"sk-item sk-dashed-wrapped\"><div class=\"sk-label-container\"><div class=\"sk-label sk-toggleable\"><input class=\"sk-toggleable__control sk-hidden--visually\" id=\"5532bee3-590d-4542-9f8f-0495f21d0b89\" type=\"checkbox\" ><label class=\"sk-toggleable__label\" for=\"5532bee3-590d-4542-9f8f-0495f21d0b89\">trf2: ColumnTransformer</label><div class=\"sk-toggleable__content\"><pre>ColumnTransformer(remainder='passthrough',\n",
       "                  transformers=[('ohe_sex_embarked',\n",
       "                                 OneHotEncoder(handle_unknown='ignore',\n",
       "                                               sparse=False),\n",
       "                                 [1, 6])])</pre></div></div></div><div class=\"sk-parallel\"><div class=\"sk-parallel-item\"><div class=\"sk-item\"><div class=\"sk-label-container\"><div class=\"sk-label sk-toggleable\"><input class=\"sk-toggleable__control sk-hidden--visually\" id=\"c2e0d570-f02b-434d-9723-4bcd33241628\" type=\"checkbox\" ><label class=\"sk-toggleable__label\" for=\"c2e0d570-f02b-434d-9723-4bcd33241628\">ohe_sex_embarked</label><div class=\"sk-toggleable__content\"><pre>[1, 6]</pre></div></div></div><div class=\"sk-serial\"><div class=\"sk-item\"><div class=\"sk-estimator sk-toggleable\"><input class=\"sk-toggleable__control sk-hidden--visually\" id=\"7c5f8779-6401-43c5-a638-6b11a7bca753\" type=\"checkbox\" ><label class=\"sk-toggleable__label\" for=\"7c5f8779-6401-43c5-a638-6b11a7bca753\">OneHotEncoder</label><div class=\"sk-toggleable__content\"><pre>OneHotEncoder(handle_unknown='ignore', sparse=False)</pre></div></div></div></div></div></div><div class=\"sk-parallel-item\"><div class=\"sk-item\"><div class=\"sk-label-container\"><div class=\"sk-label sk-toggleable\"><input class=\"sk-toggleable__control sk-hidden--visually\" id=\"cbb74cdd-42e6-4a2a-a6f1-f92f55d6182d\" type=\"checkbox\" ><label class=\"sk-toggleable__label\" for=\"cbb74cdd-42e6-4a2a-a6f1-f92f55d6182d\">remainder</label><div class=\"sk-toggleable__content\"><pre>[0, 2, 3, 4, 5]</pre></div></div></div><div class=\"sk-serial\"><div class=\"sk-item\"><div class=\"sk-estimator sk-toggleable\"><input class=\"sk-toggleable__control sk-hidden--visually\" id=\"2e01ef79-fbb8-41d6-af6e-9696eada2636\" type=\"checkbox\" ><label class=\"sk-toggleable__label\" for=\"2e01ef79-fbb8-41d6-af6e-9696eada2636\">passthrough</label><div class=\"sk-toggleable__content\"><pre>passthrough</pre></div></div></div></div></div></div></div></div><div class=\"sk-item sk-dashed-wrapped\"><div class=\"sk-label-container\"><div class=\"sk-label sk-toggleable\"><input class=\"sk-toggleable__control sk-hidden--visually\" id=\"e8e288b4-7411-4dcb-804f-73bbe7b503ed\" type=\"checkbox\" ><label class=\"sk-toggleable__label\" for=\"e8e288b4-7411-4dcb-804f-73bbe7b503ed\">trf3: ColumnTransformer</label><div class=\"sk-toggleable__content\"><pre>ColumnTransformer(transformers=[('scale', MinMaxScaler(), slice(0, 10, None))])</pre></div></div></div><div class=\"sk-parallel\"><div class=\"sk-parallel-item\"><div class=\"sk-item\"><div class=\"sk-label-container\"><div class=\"sk-label sk-toggleable\"><input class=\"sk-toggleable__control sk-hidden--visually\" id=\"81236c1a-a15e-4c03-a57f-a0fe2a8c3bfc\" type=\"checkbox\" ><label class=\"sk-toggleable__label\" for=\"81236c1a-a15e-4c03-a57f-a0fe2a8c3bfc\">scale</label><div class=\"sk-toggleable__content\"><pre>slice(0, 10, None)</pre></div></div></div><div class=\"sk-serial\"><div class=\"sk-item\"><div class=\"sk-estimator sk-toggleable\"><input class=\"sk-toggleable__control sk-hidden--visually\" id=\"2605231c-f7a6-4805-9db5-d6e8e57e5c2e\" type=\"checkbox\" ><label class=\"sk-toggleable__label\" for=\"2605231c-f7a6-4805-9db5-d6e8e57e5c2e\">MinMaxScaler</label><div class=\"sk-toggleable__content\"><pre>MinMaxScaler()</pre></div></div></div></div></div></div></div></div><div class=\"sk-item\"><div class=\"sk-estimator sk-toggleable\"><input class=\"sk-toggleable__control sk-hidden--visually\" id=\"f78a52cd-69db-41cb-ae16-2e97b6a65e28\" type=\"checkbox\" ><label class=\"sk-toggleable__label\" for=\"f78a52cd-69db-41cb-ae16-2e97b6a65e28\">SelectKBest</label><div class=\"sk-toggleable__content\"><pre>SelectKBest(k=8, score_func=<function chi2 at 0x0000020B0EBF8A60>)</pre></div></div></div><div class=\"sk-item\"><div class=\"sk-estimator sk-toggleable\"><input class=\"sk-toggleable__control sk-hidden--visually\" id=\"e78b91eb-89b8-4448-b9be-c361c20354f1\" type=\"checkbox\" ><label class=\"sk-toggleable__label\" for=\"e78b91eb-89b8-4448-b9be-c361c20354f1\">DecisionTreeClassifier</label><div class=\"sk-toggleable__content\"><pre>DecisionTreeClassifier()</pre></div></div></div></div></div></div></div>"
      ],
      "text/plain": [
       "Pipeline(steps=[('trf1',\n",
       "                 ColumnTransformer(remainder='passthrough',\n",
       "                                   transformers=[('impute_age', SimpleImputer(),\n",
       "                                                  [2]),\n",
       "                                                 ('impute_Embarked',\n",
       "                                                  SimpleImputer(strategy='most_frequent'),\n",
       "                                                  [6])])),\n",
       "                ('trf2',\n",
       "                 ColumnTransformer(remainder='passthrough',\n",
       "                                   transformers=[('ohe_sex_embarked',\n",
       "                                                  OneHotEncoder(handle_unknown='ignore',\n",
       "                                                                sparse=False),\n",
       "                                                  [1, 6])])),\n",
       "                ('trf3',\n",
       "                 ColumnTransformer(transformers=[('scale', MinMaxScaler(),\n",
       "                                                  slice(0, 10, None))])),\n",
       "                ('trf4',\n",
       "                 SelectKBest(k=8,\n",
       "                             score_func=<function chi2 at 0x0000020B0EBF8A60>)),\n",
       "                ('trf5', DecisionTreeClassifier())])"
      ]
     },
     "execution_count": 18,
     "metadata": {},
     "output_type": "execute_result"
    }
   ],
   "source": [
    "# train\n",
    "pipe.fit(x_train,y_train)"
   ]
  },
  {
   "cell_type": "code",
   "execution_count": 19,
   "id": "b2ac5f7c",
   "metadata": {
    "scrolled": true
   },
   "outputs": [
    {
     "data": {
      "text/plain": [
       "{'trf1': ColumnTransformer(remainder='passthrough',\n",
       "                   transformers=[('impute_age', SimpleImputer(), [2]),\n",
       "                                 ('impute_Embarked',\n",
       "                                  SimpleImputer(strategy='most_frequent'),\n",
       "                                  [6])]),\n",
       " 'trf2': ColumnTransformer(remainder='passthrough',\n",
       "                   transformers=[('ohe_sex_embarked',\n",
       "                                  OneHotEncoder(handle_unknown='ignore',\n",
       "                                                sparse=False),\n",
       "                                  [1, 6])]),\n",
       " 'trf3': ColumnTransformer(transformers=[('scale', MinMaxScaler(), slice(0, 10, None))]),\n",
       " 'trf4': SelectKBest(k=8, score_func=<function chi2 at 0x0000020B0EBF8A60>),\n",
       " 'trf5': DecisionTreeClassifier()}"
      ]
     },
     "execution_count": 19,
     "metadata": {},
     "output_type": "execute_result"
    }
   ],
   "source": [
    "# Code here\n",
    "pipe.named_steps"
   ]
  },
  {
   "cell_type": "code",
   "execution_count": 20,
   "id": "c4fe436e",
   "metadata": {
    "scrolled": true
   },
   "outputs": [
    {
     "data": {
      "text/html": [
       "<style>#sk-6977a0d4-3f10-45a1-96b4-df51512f20f9 {color: black;background-color: white;}#sk-6977a0d4-3f10-45a1-96b4-df51512f20f9 pre{padding: 0;}#sk-6977a0d4-3f10-45a1-96b4-df51512f20f9 div.sk-toggleable {background-color: white;}#sk-6977a0d4-3f10-45a1-96b4-df51512f20f9 label.sk-toggleable__label {cursor: pointer;display: block;width: 100%;margin-bottom: 0;padding: 0.2em 0.3em;box-sizing: border-box;text-align: center;}#sk-6977a0d4-3f10-45a1-96b4-df51512f20f9 div.sk-toggleable__content {max-height: 0;max-width: 0;overflow: hidden;text-align: left;background-color: #f0f8ff;}#sk-6977a0d4-3f10-45a1-96b4-df51512f20f9 div.sk-toggleable__content pre {margin: 0.2em;color: black;border-radius: 0.25em;background-color: #f0f8ff;}#sk-6977a0d4-3f10-45a1-96b4-df51512f20f9 input.sk-toggleable__control:checked~div.sk-toggleable__content {max-height: 200px;max-width: 100%;overflow: auto;}#sk-6977a0d4-3f10-45a1-96b4-df51512f20f9 div.sk-estimator input.sk-toggleable__control:checked~label.sk-toggleable__label {background-color: #d4ebff;}#sk-6977a0d4-3f10-45a1-96b4-df51512f20f9 div.sk-label input.sk-toggleable__control:checked~label.sk-toggleable__label {background-color: #d4ebff;}#sk-6977a0d4-3f10-45a1-96b4-df51512f20f9 input.sk-hidden--visually {border: 0;clip: rect(1px 1px 1px 1px);clip: rect(1px, 1px, 1px, 1px);height: 1px;margin: -1px;overflow: hidden;padding: 0;position: absolute;width: 1px;}#sk-6977a0d4-3f10-45a1-96b4-df51512f20f9 div.sk-estimator {font-family: monospace;background-color: #f0f8ff;margin: 0.25em 0.25em;border: 1px dotted black;border-radius: 0.25em;box-sizing: border-box;}#sk-6977a0d4-3f10-45a1-96b4-df51512f20f9 div.sk-estimator:hover {background-color: #d4ebff;}#sk-6977a0d4-3f10-45a1-96b4-df51512f20f9 div.sk-parallel-item::after {content: \"\";width: 100%;border-bottom: 1px solid gray;flex-grow: 1;}#sk-6977a0d4-3f10-45a1-96b4-df51512f20f9 div.sk-label:hover label.sk-toggleable__label {background-color: #d4ebff;}#sk-6977a0d4-3f10-45a1-96b4-df51512f20f9 div.sk-serial::before {content: \"\";position: absolute;border-left: 1px solid gray;box-sizing: border-box;top: 2em;bottom: 0;left: 50%;}#sk-6977a0d4-3f10-45a1-96b4-df51512f20f9 div.sk-serial {display: flex;flex-direction: column;align-items: center;background-color: white;}#sk-6977a0d4-3f10-45a1-96b4-df51512f20f9 div.sk-item {z-index: 1;}#sk-6977a0d4-3f10-45a1-96b4-df51512f20f9 div.sk-parallel {display: flex;align-items: stretch;justify-content: center;background-color: white;}#sk-6977a0d4-3f10-45a1-96b4-df51512f20f9 div.sk-parallel-item {display: flex;flex-direction: column;position: relative;background-color: white;}#sk-6977a0d4-3f10-45a1-96b4-df51512f20f9 div.sk-parallel-item:first-child::after {align-self: flex-end;width: 50%;}#sk-6977a0d4-3f10-45a1-96b4-df51512f20f9 div.sk-parallel-item:last-child::after {align-self: flex-start;width: 50%;}#sk-6977a0d4-3f10-45a1-96b4-df51512f20f9 div.sk-parallel-item:only-child::after {width: 0;}#sk-6977a0d4-3f10-45a1-96b4-df51512f20f9 div.sk-dashed-wrapped {border: 1px dashed gray;margin: 0.2em;box-sizing: border-box;padding-bottom: 0.1em;background-color: white;position: relative;}#sk-6977a0d4-3f10-45a1-96b4-df51512f20f9 div.sk-label label {font-family: monospace;font-weight: bold;background-color: white;display: inline-block;line-height: 1.2em;}#sk-6977a0d4-3f10-45a1-96b4-df51512f20f9 div.sk-label-container {position: relative;z-index: 2;text-align: center;}#sk-6977a0d4-3f10-45a1-96b4-df51512f20f9 div.sk-container {display: inline-block;position: relative;}</style><div id=\"sk-6977a0d4-3f10-45a1-96b4-df51512f20f9\" class\"sk-top-container\"><div class=\"sk-container\"><div class=\"sk-item sk-dashed-wrapped\"><div class=\"sk-label-container\"><div class=\"sk-label sk-toggleable\"><input class=\"sk-toggleable__control sk-hidden--visually\" id=\"4b0eb675-0cc8-490c-a8a3-41580653f522\" type=\"checkbox\" ><label class=\"sk-toggleable__label\" for=\"4b0eb675-0cc8-490c-a8a3-41580653f522\">ColumnTransformer</label><div class=\"sk-toggleable__content\"><pre>ColumnTransformer(remainder='passthrough',\n",
       "                  transformers=[('impute_age', SimpleImputer(), [2]),\n",
       "                                ('impute_Embarked',\n",
       "                                 SimpleImputer(strategy='most_frequent'),\n",
       "                                 [6])])</pre></div></div></div><div class=\"sk-parallel\"><div class=\"sk-parallel-item\"><div class=\"sk-item\"><div class=\"sk-label-container\"><div class=\"sk-label sk-toggleable\"><input class=\"sk-toggleable__control sk-hidden--visually\" id=\"3d75f6b6-4765-40f7-92fe-70456058b603\" type=\"checkbox\" ><label class=\"sk-toggleable__label\" for=\"3d75f6b6-4765-40f7-92fe-70456058b603\">impute_age</label><div class=\"sk-toggleable__content\"><pre>[2]</pre></div></div></div><div class=\"sk-serial\"><div class=\"sk-item\"><div class=\"sk-estimator sk-toggleable\"><input class=\"sk-toggleable__control sk-hidden--visually\" id=\"e5b794b7-72c6-4950-9da7-b5859968bbc2\" type=\"checkbox\" ><label class=\"sk-toggleable__label\" for=\"e5b794b7-72c6-4950-9da7-b5859968bbc2\">SimpleImputer</label><div class=\"sk-toggleable__content\"><pre>SimpleImputer()</pre></div></div></div></div></div></div><div class=\"sk-parallel-item\"><div class=\"sk-item\"><div class=\"sk-label-container\"><div class=\"sk-label sk-toggleable\"><input class=\"sk-toggleable__control sk-hidden--visually\" id=\"dde695ff-7ebd-45f3-be7a-712a3c6b53c1\" type=\"checkbox\" ><label class=\"sk-toggleable__label\" for=\"dde695ff-7ebd-45f3-be7a-712a3c6b53c1\">impute_Embarked</label><div class=\"sk-toggleable__content\"><pre>[6]</pre></div></div></div><div class=\"sk-serial\"><div class=\"sk-item\"><div class=\"sk-estimator sk-toggleable\"><input class=\"sk-toggleable__control sk-hidden--visually\" id=\"0fd4daee-ef19-4ff5-8b9e-700775b651f5\" type=\"checkbox\" ><label class=\"sk-toggleable__label\" for=\"0fd4daee-ef19-4ff5-8b9e-700775b651f5\">SimpleImputer</label><div class=\"sk-toggleable__content\"><pre>SimpleImputer(strategy='most_frequent')</pre></div></div></div></div></div></div><div class=\"sk-parallel-item\"><div class=\"sk-item\"><div class=\"sk-label-container\"><div class=\"sk-label sk-toggleable\"><input class=\"sk-toggleable__control sk-hidden--visually\" id=\"3469dbe0-84c0-48f8-833e-336edcfdd894\" type=\"checkbox\" ><label class=\"sk-toggleable__label\" for=\"3469dbe0-84c0-48f8-833e-336edcfdd894\">remainder</label><div class=\"sk-toggleable__content\"><pre>['Pclass', 'Sex', 'SibSp', 'Parch', 'Fare']</pre></div></div></div><div class=\"sk-serial\"><div class=\"sk-item\"><div class=\"sk-estimator sk-toggleable\"><input class=\"sk-toggleable__control sk-hidden--visually\" id=\"c43f9f07-875e-4a98-9901-6671ebe73aa8\" type=\"checkbox\" ><label class=\"sk-toggleable__label\" for=\"c43f9f07-875e-4a98-9901-6671ebe73aa8\">passthrough</label><div class=\"sk-toggleable__content\"><pre>passthrough</pre></div></div></div></div></div></div></div></div></div></div>"
      ],
      "text/plain": [
       "ColumnTransformer(remainder='passthrough',\n",
       "                  transformers=[('impute_age', SimpleImputer(), [2]),\n",
       "                                ('impute_Embarked',\n",
       "                                 SimpleImputer(strategy='most_frequent'),\n",
       "                                 [6])])"
      ]
     },
     "execution_count": 20,
     "metadata": {},
     "output_type": "execute_result"
    }
   ],
   "source": [
    "pipe.named_steps['trf1']"
   ]
  },
  {
   "cell_type": "code",
   "execution_count": 21,
   "id": "cd1c7f57",
   "metadata": {
    "scrolled": true
   },
   "outputs": [
    {
     "data": {
      "text/html": [
       "<style>#sk-0cfa1ebc-c987-44b8-9fa8-0b39df946ed3 {color: black;background-color: white;}#sk-0cfa1ebc-c987-44b8-9fa8-0b39df946ed3 pre{padding: 0;}#sk-0cfa1ebc-c987-44b8-9fa8-0b39df946ed3 div.sk-toggleable {background-color: white;}#sk-0cfa1ebc-c987-44b8-9fa8-0b39df946ed3 label.sk-toggleable__label {cursor: pointer;display: block;width: 100%;margin-bottom: 0;padding: 0.2em 0.3em;box-sizing: border-box;text-align: center;}#sk-0cfa1ebc-c987-44b8-9fa8-0b39df946ed3 div.sk-toggleable__content {max-height: 0;max-width: 0;overflow: hidden;text-align: left;background-color: #f0f8ff;}#sk-0cfa1ebc-c987-44b8-9fa8-0b39df946ed3 div.sk-toggleable__content pre {margin: 0.2em;color: black;border-radius: 0.25em;background-color: #f0f8ff;}#sk-0cfa1ebc-c987-44b8-9fa8-0b39df946ed3 input.sk-toggleable__control:checked~div.sk-toggleable__content {max-height: 200px;max-width: 100%;overflow: auto;}#sk-0cfa1ebc-c987-44b8-9fa8-0b39df946ed3 div.sk-estimator input.sk-toggleable__control:checked~label.sk-toggleable__label {background-color: #d4ebff;}#sk-0cfa1ebc-c987-44b8-9fa8-0b39df946ed3 div.sk-label input.sk-toggleable__control:checked~label.sk-toggleable__label {background-color: #d4ebff;}#sk-0cfa1ebc-c987-44b8-9fa8-0b39df946ed3 input.sk-hidden--visually {border: 0;clip: rect(1px 1px 1px 1px);clip: rect(1px, 1px, 1px, 1px);height: 1px;margin: -1px;overflow: hidden;padding: 0;position: absolute;width: 1px;}#sk-0cfa1ebc-c987-44b8-9fa8-0b39df946ed3 div.sk-estimator {font-family: monospace;background-color: #f0f8ff;margin: 0.25em 0.25em;border: 1px dotted black;border-radius: 0.25em;box-sizing: border-box;}#sk-0cfa1ebc-c987-44b8-9fa8-0b39df946ed3 div.sk-estimator:hover {background-color: #d4ebff;}#sk-0cfa1ebc-c987-44b8-9fa8-0b39df946ed3 div.sk-parallel-item::after {content: \"\";width: 100%;border-bottom: 1px solid gray;flex-grow: 1;}#sk-0cfa1ebc-c987-44b8-9fa8-0b39df946ed3 div.sk-label:hover label.sk-toggleable__label {background-color: #d4ebff;}#sk-0cfa1ebc-c987-44b8-9fa8-0b39df946ed3 div.sk-serial::before {content: \"\";position: absolute;border-left: 1px solid gray;box-sizing: border-box;top: 2em;bottom: 0;left: 50%;}#sk-0cfa1ebc-c987-44b8-9fa8-0b39df946ed3 div.sk-serial {display: flex;flex-direction: column;align-items: center;background-color: white;}#sk-0cfa1ebc-c987-44b8-9fa8-0b39df946ed3 div.sk-item {z-index: 1;}#sk-0cfa1ebc-c987-44b8-9fa8-0b39df946ed3 div.sk-parallel {display: flex;align-items: stretch;justify-content: center;background-color: white;}#sk-0cfa1ebc-c987-44b8-9fa8-0b39df946ed3 div.sk-parallel-item {display: flex;flex-direction: column;position: relative;background-color: white;}#sk-0cfa1ebc-c987-44b8-9fa8-0b39df946ed3 div.sk-parallel-item:first-child::after {align-self: flex-end;width: 50%;}#sk-0cfa1ebc-c987-44b8-9fa8-0b39df946ed3 div.sk-parallel-item:last-child::after {align-self: flex-start;width: 50%;}#sk-0cfa1ebc-c987-44b8-9fa8-0b39df946ed3 div.sk-parallel-item:only-child::after {width: 0;}#sk-0cfa1ebc-c987-44b8-9fa8-0b39df946ed3 div.sk-dashed-wrapped {border: 1px dashed gray;margin: 0.2em;box-sizing: border-box;padding-bottom: 0.1em;background-color: white;position: relative;}#sk-0cfa1ebc-c987-44b8-9fa8-0b39df946ed3 div.sk-label label {font-family: monospace;font-weight: bold;background-color: white;display: inline-block;line-height: 1.2em;}#sk-0cfa1ebc-c987-44b8-9fa8-0b39df946ed3 div.sk-label-container {position: relative;z-index: 2;text-align: center;}#sk-0cfa1ebc-c987-44b8-9fa8-0b39df946ed3 div.sk-container {display: inline-block;position: relative;}</style><div id=\"sk-0cfa1ebc-c987-44b8-9fa8-0b39df946ed3\" class\"sk-top-container\"><div class=\"sk-container\"><div class=\"sk-item\"><div class=\"sk-estimator sk-toggleable\"><input class=\"sk-toggleable__control sk-hidden--visually\" id=\"9550c71c-834a-4a37-a8d5-058536b44c7f\" type=\"checkbox\" checked><label class=\"sk-toggleable__label\" for=\"9550c71c-834a-4a37-a8d5-058536b44c7f\">SimpleImputer</label><div class=\"sk-toggleable__content\"><pre>SimpleImputer()</pre></div></div></div></div></div>"
      ],
      "text/plain": [
       "SimpleImputer()"
      ]
     },
     "execution_count": 21,
     "metadata": {},
     "output_type": "execute_result"
    }
   ],
   "source": [
    "pipe.named_steps['trf1'].transformers_[0][1]"
   ]
  },
  {
   "cell_type": "code",
   "execution_count": 22,
   "id": "920e798c",
   "metadata": {
    "scrolled": true
   },
   "outputs": [
    {
     "data": {
      "text/plain": [
       "array([29.93955986])"
      ]
     },
     "execution_count": 22,
     "metadata": {},
     "output_type": "execute_result"
    }
   ],
   "source": [
    "pipe.named_steps['trf1'].transformers_[0][1].statistics_"
   ]
  },
  {
   "cell_type": "code",
   "execution_count": 23,
   "id": "7bbd71db",
   "metadata": {},
   "outputs": [
    {
     "data": {
      "text/plain": [
       "array(['S'], dtype=object)"
      ]
     },
     "execution_count": 23,
     "metadata": {},
     "output_type": "execute_result"
    }
   ],
   "source": [
    "pipe.named_steps['trf1'].transformers_[1][1].statistics_# for scond one"
   ]
  },
  {
   "cell_type": "code",
   "execution_count": 24,
   "id": "02823e6d",
   "metadata": {},
   "outputs": [],
   "source": [
    "# Predict\n",
    "y_pred = pipe.predict(x_test)"
   ]
  },
  {
   "cell_type": "code",
   "execution_count": 25,
   "id": "811c1b4f",
   "metadata": {},
   "outputs": [
    {
     "data": {
      "text/plain": [
       "array([0, 0, 0, 0, 0, 0, 0, 0, 0, 0, 0, 0, 0, 0, 0, 0, 0, 0, 0, 0, 0, 0,\n",
       "       0, 0, 0, 0, 0, 1, 0, 0, 1, 0, 0, 0, 0, 0, 1, 0, 0, 0, 0, 0, 0, 0,\n",
       "       0, 0, 1, 0, 1, 0, 0, 0, 0, 0, 0, 0, 1, 0, 1, 0, 0, 1, 0, 0, 0, 1,\n",
       "       0, 0, 0, 0, 0, 1, 0, 0, 0, 0, 0, 0, 0, 0, 0, 0, 1, 1, 0, 0, 0, 1,\n",
       "       0, 0, 1, 0, 0, 0, 0, 0, 0, 0, 0, 0, 0, 0, 0, 0, 1, 0, 0, 0, 0, 0,\n",
       "       0, 0, 0, 1, 0, 0, 0, 0, 0, 0, 0, 1, 0, 0, 1, 0, 0, 1, 0, 0, 1, 1,\n",
       "       1, 0, 0, 1, 1, 0, 0, 0, 0, 0, 0, 1, 0, 0, 0, 1, 1, 0, 1, 0, 0, 0,\n",
       "       0, 0, 0, 0, 0, 0, 1, 0, 0, 0, 0, 0, 1, 0, 0, 0, 0, 1, 0, 1, 0, 0,\n",
       "       0, 0, 0], dtype=int64)"
      ]
     },
     "execution_count": 25,
     "metadata": {},
     "output_type": "execute_result"
    }
   ],
   "source": [
    "y_pred"
   ]
  },
  {
   "cell_type": "code",
   "execution_count": 26,
   "id": "8ef974ff",
   "metadata": {},
   "outputs": [
    {
     "data": {
      "text/plain": [
       "0.7318435754189944"
      ]
     },
     "execution_count": 26,
     "metadata": {},
     "output_type": "execute_result"
    }
   ],
   "source": [
    "from sklearn.metrics import accuracy_score\n",
    "accuracy_score(y_test,y_pred)"
   ]
  },
  {
   "cell_type": "markdown",
   "id": "678640a7",
   "metadata": {},
   "source": [
    "## Cross Validation using Pipeline"
   ]
  },
  {
   "cell_type": "code",
   "execution_count": 27,
   "id": "013c82a5",
   "metadata": {},
   "outputs": [
    {
     "data": {
      "text/plain": [
       "0.587067861715749"
      ]
     },
     "execution_count": 27,
     "metadata": {},
     "output_type": "execute_result"
    }
   ],
   "source": [
    "# cross validation using cross_val_score\n",
    "from sklearn.model_selection import cross_val_score\n",
    "cross_val_score(pipe, x_train, y_train, cv=5, scoring='accuracy').mean()"
   ]
  },
  {
   "cell_type": "markdown",
   "id": "feaaa318",
   "metadata": {},
   "source": [
    "## GridSearch using Pipeline"
   ]
  },
  {
   "cell_type": "code",
   "execution_count": null,
   "id": "eb2a0954",
   "metadata": {},
   "outputs": [],
   "source": []
  },
  {
   "cell_type": "code",
   "execution_count": 28,
   "id": "37d4bc2c",
   "metadata": {},
   "outputs": [],
   "source": [
    "# gridsearchcv\n",
    "params = {\n",
    "    'trf5__max_depth':[1,2,3,4,5,None]\n",
    "}"
   ]
  },
  {
   "cell_type": "code",
   "execution_count": 29,
   "id": "26614fcd",
   "metadata": {},
   "outputs": [
    {
     "data": {
      "text/html": [
       "<style>#sk-2d935fd7-e814-44f3-9795-f12a4cec8979 {color: black;background-color: white;}#sk-2d935fd7-e814-44f3-9795-f12a4cec8979 pre{padding: 0;}#sk-2d935fd7-e814-44f3-9795-f12a4cec8979 div.sk-toggleable {background-color: white;}#sk-2d935fd7-e814-44f3-9795-f12a4cec8979 label.sk-toggleable__label {cursor: pointer;display: block;width: 100%;margin-bottom: 0;padding: 0.2em 0.3em;box-sizing: border-box;text-align: center;}#sk-2d935fd7-e814-44f3-9795-f12a4cec8979 div.sk-toggleable__content {max-height: 0;max-width: 0;overflow: hidden;text-align: left;background-color: #f0f8ff;}#sk-2d935fd7-e814-44f3-9795-f12a4cec8979 div.sk-toggleable__content pre {margin: 0.2em;color: black;border-radius: 0.25em;background-color: #f0f8ff;}#sk-2d935fd7-e814-44f3-9795-f12a4cec8979 input.sk-toggleable__control:checked~div.sk-toggleable__content {max-height: 200px;max-width: 100%;overflow: auto;}#sk-2d935fd7-e814-44f3-9795-f12a4cec8979 div.sk-estimator input.sk-toggleable__control:checked~label.sk-toggleable__label {background-color: #d4ebff;}#sk-2d935fd7-e814-44f3-9795-f12a4cec8979 div.sk-label input.sk-toggleable__control:checked~label.sk-toggleable__label {background-color: #d4ebff;}#sk-2d935fd7-e814-44f3-9795-f12a4cec8979 input.sk-hidden--visually {border: 0;clip: rect(1px 1px 1px 1px);clip: rect(1px, 1px, 1px, 1px);height: 1px;margin: -1px;overflow: hidden;padding: 0;position: absolute;width: 1px;}#sk-2d935fd7-e814-44f3-9795-f12a4cec8979 div.sk-estimator {font-family: monospace;background-color: #f0f8ff;margin: 0.25em 0.25em;border: 1px dotted black;border-radius: 0.25em;box-sizing: border-box;}#sk-2d935fd7-e814-44f3-9795-f12a4cec8979 div.sk-estimator:hover {background-color: #d4ebff;}#sk-2d935fd7-e814-44f3-9795-f12a4cec8979 div.sk-parallel-item::after {content: \"\";width: 100%;border-bottom: 1px solid gray;flex-grow: 1;}#sk-2d935fd7-e814-44f3-9795-f12a4cec8979 div.sk-label:hover label.sk-toggleable__label {background-color: #d4ebff;}#sk-2d935fd7-e814-44f3-9795-f12a4cec8979 div.sk-serial::before {content: \"\";position: absolute;border-left: 1px solid gray;box-sizing: border-box;top: 2em;bottom: 0;left: 50%;}#sk-2d935fd7-e814-44f3-9795-f12a4cec8979 div.sk-serial {display: flex;flex-direction: column;align-items: center;background-color: white;}#sk-2d935fd7-e814-44f3-9795-f12a4cec8979 div.sk-item {z-index: 1;}#sk-2d935fd7-e814-44f3-9795-f12a4cec8979 div.sk-parallel {display: flex;align-items: stretch;justify-content: center;background-color: white;}#sk-2d935fd7-e814-44f3-9795-f12a4cec8979 div.sk-parallel-item {display: flex;flex-direction: column;position: relative;background-color: white;}#sk-2d935fd7-e814-44f3-9795-f12a4cec8979 div.sk-parallel-item:first-child::after {align-self: flex-end;width: 50%;}#sk-2d935fd7-e814-44f3-9795-f12a4cec8979 div.sk-parallel-item:last-child::after {align-self: flex-start;width: 50%;}#sk-2d935fd7-e814-44f3-9795-f12a4cec8979 div.sk-parallel-item:only-child::after {width: 0;}#sk-2d935fd7-e814-44f3-9795-f12a4cec8979 div.sk-dashed-wrapped {border: 1px dashed gray;margin: 0.2em;box-sizing: border-box;padding-bottom: 0.1em;background-color: white;position: relative;}#sk-2d935fd7-e814-44f3-9795-f12a4cec8979 div.sk-label label {font-family: monospace;font-weight: bold;background-color: white;display: inline-block;line-height: 1.2em;}#sk-2d935fd7-e814-44f3-9795-f12a4cec8979 div.sk-label-container {position: relative;z-index: 2;text-align: center;}#sk-2d935fd7-e814-44f3-9795-f12a4cec8979 div.sk-container {display: inline-block;position: relative;}</style><div id=\"sk-2d935fd7-e814-44f3-9795-f12a4cec8979\" class\"sk-top-container\"><div class=\"sk-container\"><div class=\"sk-item sk-dashed-wrapped\"><div class=\"sk-label-container\"><div class=\"sk-label sk-toggleable\"><input class=\"sk-toggleable__control sk-hidden--visually\" id=\"59368e1c-fa31-46a0-a512-cbde067fd2bb\" type=\"checkbox\" ><label class=\"sk-toggleable__label\" for=\"59368e1c-fa31-46a0-a512-cbde067fd2bb\">GridSearchCV</label><div class=\"sk-toggleable__content\"><pre>GridSearchCV(cv=5,\n",
       "             estimator=Pipeline(steps=[('trf1',\n",
       "                                        ColumnTransformer(remainder='passthrough',\n",
       "                                                          transformers=[('impute_age',\n",
       "                                                                         SimpleImputer(),\n",
       "                                                                         [2]),\n",
       "                                                                        ('impute_Embarked',\n",
       "                                                                         SimpleImputer(strategy='most_frequent'),\n",
       "                                                                         [6])])),\n",
       "                                       ('trf2',\n",
       "                                        ColumnTransformer(remainder='passthrough',\n",
       "                                                          transformers=[('ohe_sex_embarked',\n",
       "                                                                         OneHotEncoder(handle_unknown='ignore',\n",
       "                                                                                       sparse=False),\n",
       "                                                                         [1,\n",
       "                                                                          6])])),\n",
       "                                       ('trf3',\n",
       "                                        ColumnTransformer(transformers=[('scale',\n",
       "                                                                         MinMaxScaler(),\n",
       "                                                                         slice(0, 10, None))])),\n",
       "                                       ('trf4',\n",
       "                                        SelectKBest(k=8,\n",
       "                                                    score_func=<function chi2 at 0x0000020B0EBF8A60>)),\n",
       "                                       ('trf5', DecisionTreeClassifier())]),\n",
       "             param_grid={'trf5__max_depth': [1, 2, 3, 4, 5, None]},\n",
       "             scoring='accuracy')</pre></div></div></div><div class=\"sk-parallel\"><div class=\"sk-parallel-item\"><div class=\"sk-item\"><div class=\"sk-serial\"><div class=\"sk-item\"><div class=\"sk-serial\"><div class=\"sk-item sk-dashed-wrapped\"><div class=\"sk-label-container\"><div class=\"sk-label sk-toggleable\"><input class=\"sk-toggleable__control sk-hidden--visually\" id=\"4adc3400-fcd1-4aeb-8b63-f6076e7457d0\" type=\"checkbox\" ><label class=\"sk-toggleable__label\" for=\"4adc3400-fcd1-4aeb-8b63-f6076e7457d0\">trf1: ColumnTransformer</label><div class=\"sk-toggleable__content\"><pre>ColumnTransformer(remainder='passthrough',\n",
       "                  transformers=[('impute_age', SimpleImputer(), [2]),\n",
       "                                ('impute_Embarked',\n",
       "                                 SimpleImputer(strategy='most_frequent'),\n",
       "                                 [6])])</pre></div></div></div><div class=\"sk-parallel\"><div class=\"sk-parallel-item\"><div class=\"sk-item\"><div class=\"sk-label-container\"><div class=\"sk-label sk-toggleable\"><input class=\"sk-toggleable__control sk-hidden--visually\" id=\"cedfec77-7dde-4f9b-998b-162a748954ca\" type=\"checkbox\" ><label class=\"sk-toggleable__label\" for=\"cedfec77-7dde-4f9b-998b-162a748954ca\">impute_age</label><div class=\"sk-toggleable__content\"><pre>[2]</pre></div></div></div><div class=\"sk-serial\"><div class=\"sk-item\"><div class=\"sk-estimator sk-toggleable\"><input class=\"sk-toggleable__control sk-hidden--visually\" id=\"82cf33cc-7628-49f9-8b45-62710ab16076\" type=\"checkbox\" ><label class=\"sk-toggleable__label\" for=\"82cf33cc-7628-49f9-8b45-62710ab16076\">SimpleImputer</label><div class=\"sk-toggleable__content\"><pre>SimpleImputer()</pre></div></div></div></div></div></div><div class=\"sk-parallel-item\"><div class=\"sk-item\"><div class=\"sk-label-container\"><div class=\"sk-label sk-toggleable\"><input class=\"sk-toggleable__control sk-hidden--visually\" id=\"fc915467-6ed6-4018-a071-3d675de3f2f3\" type=\"checkbox\" ><label class=\"sk-toggleable__label\" for=\"fc915467-6ed6-4018-a071-3d675de3f2f3\">impute_Embarked</label><div class=\"sk-toggleable__content\"><pre>[6]</pre></div></div></div><div class=\"sk-serial\"><div class=\"sk-item\"><div class=\"sk-estimator sk-toggleable\"><input class=\"sk-toggleable__control sk-hidden--visually\" id=\"f3c74f50-4428-4784-a85c-da4c687f58b9\" type=\"checkbox\" ><label class=\"sk-toggleable__label\" for=\"f3c74f50-4428-4784-a85c-da4c687f58b9\">SimpleImputer</label><div class=\"sk-toggleable__content\"><pre>SimpleImputer(strategy='most_frequent')</pre></div></div></div></div></div></div><div class=\"sk-parallel-item\"><div class=\"sk-item\"><div class=\"sk-label-container\"><div class=\"sk-label sk-toggleable\"><input class=\"sk-toggleable__control sk-hidden--visually\" id=\"9461faa0-8cc9-4e4a-b4f3-2d9534a0362e\" type=\"checkbox\" ><label class=\"sk-toggleable__label\" for=\"9461faa0-8cc9-4e4a-b4f3-2d9534a0362e\">remainder</label><div class=\"sk-toggleable__content\"><pre>['Pclass', 'Sex', 'SibSp', 'Parch', 'Fare']</pre></div></div></div><div class=\"sk-serial\"><div class=\"sk-item\"><div class=\"sk-estimator sk-toggleable\"><input class=\"sk-toggleable__control sk-hidden--visually\" id=\"3ff4baf1-db9c-449c-9755-aa696f00b434\" type=\"checkbox\" ><label class=\"sk-toggleable__label\" for=\"3ff4baf1-db9c-449c-9755-aa696f00b434\">passthrough</label><div class=\"sk-toggleable__content\"><pre>passthrough</pre></div></div></div></div></div></div></div></div><div class=\"sk-item sk-dashed-wrapped\"><div class=\"sk-label-container\"><div class=\"sk-label sk-toggleable\"><input class=\"sk-toggleable__control sk-hidden--visually\" id=\"22a87125-50f6-4562-8724-caf2e858e132\" type=\"checkbox\" ><label class=\"sk-toggleable__label\" for=\"22a87125-50f6-4562-8724-caf2e858e132\">trf2: ColumnTransformer</label><div class=\"sk-toggleable__content\"><pre>ColumnTransformer(remainder='passthrough',\n",
       "                  transformers=[('ohe_sex_embarked',\n",
       "                                 OneHotEncoder(handle_unknown='ignore',\n",
       "                                               sparse=False),\n",
       "                                 [1, 6])])</pre></div></div></div><div class=\"sk-parallel\"><div class=\"sk-parallel-item\"><div class=\"sk-item\"><div class=\"sk-label-container\"><div class=\"sk-label sk-toggleable\"><input class=\"sk-toggleable__control sk-hidden--visually\" id=\"82a4a62a-5b09-4834-9011-efb593632863\" type=\"checkbox\" ><label class=\"sk-toggleable__label\" for=\"82a4a62a-5b09-4834-9011-efb593632863\">ohe_sex_embarked</label><div class=\"sk-toggleable__content\"><pre>[1, 6]</pre></div></div></div><div class=\"sk-serial\"><div class=\"sk-item\"><div class=\"sk-estimator sk-toggleable\"><input class=\"sk-toggleable__control sk-hidden--visually\" id=\"e6139076-8dc8-4eda-b049-8559f00fffdb\" type=\"checkbox\" ><label class=\"sk-toggleable__label\" for=\"e6139076-8dc8-4eda-b049-8559f00fffdb\">OneHotEncoder</label><div class=\"sk-toggleable__content\"><pre>OneHotEncoder(handle_unknown='ignore', sparse=False)</pre></div></div></div></div></div></div><div class=\"sk-parallel-item\"><div class=\"sk-item\"><div class=\"sk-label-container\"><div class=\"sk-label sk-toggleable\"><input class=\"sk-toggleable__control sk-hidden--visually\" id=\"d352d7bc-5665-48b4-b63b-5d6bd5cd22dc\" type=\"checkbox\" ><label class=\"sk-toggleable__label\" for=\"d352d7bc-5665-48b4-b63b-5d6bd5cd22dc\">remainder</label><div class=\"sk-toggleable__content\"><pre>[0, 2, 3, 4, 5]</pre></div></div></div><div class=\"sk-serial\"><div class=\"sk-item\"><div class=\"sk-estimator sk-toggleable\"><input class=\"sk-toggleable__control sk-hidden--visually\" id=\"0f8c2983-bb5f-4bd7-aa5d-39f764870293\" type=\"checkbox\" ><label class=\"sk-toggleable__label\" for=\"0f8c2983-bb5f-4bd7-aa5d-39f764870293\">passthrough</label><div class=\"sk-toggleable__content\"><pre>passthrough</pre></div></div></div></div></div></div></div></div><div class=\"sk-item sk-dashed-wrapped\"><div class=\"sk-label-container\"><div class=\"sk-label sk-toggleable\"><input class=\"sk-toggleable__control sk-hidden--visually\" id=\"2ff9f5f6-b4a0-4dcd-bbc8-848204ac45bc\" type=\"checkbox\" ><label class=\"sk-toggleable__label\" for=\"2ff9f5f6-b4a0-4dcd-bbc8-848204ac45bc\">trf3: ColumnTransformer</label><div class=\"sk-toggleable__content\"><pre>ColumnTransformer(transformers=[('scale', MinMaxScaler(), slice(0, 10, None))])</pre></div></div></div><div class=\"sk-parallel\"><div class=\"sk-parallel-item\"><div class=\"sk-item\"><div class=\"sk-label-container\"><div class=\"sk-label sk-toggleable\"><input class=\"sk-toggleable__control sk-hidden--visually\" id=\"ea279f7b-74ef-4e73-a075-d0f289ab98b7\" type=\"checkbox\" ><label class=\"sk-toggleable__label\" for=\"ea279f7b-74ef-4e73-a075-d0f289ab98b7\">scale</label><div class=\"sk-toggleable__content\"><pre>slice(0, 10, None)</pre></div></div></div><div class=\"sk-serial\"><div class=\"sk-item\"><div class=\"sk-estimator sk-toggleable\"><input class=\"sk-toggleable__control sk-hidden--visually\" id=\"e4aaa979-beca-4207-9cd0-12218da2b793\" type=\"checkbox\" ><label class=\"sk-toggleable__label\" for=\"e4aaa979-beca-4207-9cd0-12218da2b793\">MinMaxScaler</label><div class=\"sk-toggleable__content\"><pre>MinMaxScaler()</pre></div></div></div></div></div></div></div></div><div class=\"sk-item\"><div class=\"sk-estimator sk-toggleable\"><input class=\"sk-toggleable__control sk-hidden--visually\" id=\"89f662ce-b2c6-4a95-a5da-358e2be81131\" type=\"checkbox\" ><label class=\"sk-toggleable__label\" for=\"89f662ce-b2c6-4a95-a5da-358e2be81131\">SelectKBest</label><div class=\"sk-toggleable__content\"><pre>SelectKBest(k=8, score_func=<function chi2 at 0x0000020B0EBF8A60>)</pre></div></div></div><div class=\"sk-item\"><div class=\"sk-estimator sk-toggleable\"><input class=\"sk-toggleable__control sk-hidden--visually\" id=\"8e1c2b2d-3922-4aab-a4ea-83aa84ec97d2\" type=\"checkbox\" ><label class=\"sk-toggleable__label\" for=\"8e1c2b2d-3922-4aab-a4ea-83aa84ec97d2\">DecisionTreeClassifier</label><div class=\"sk-toggleable__content\"><pre>DecisionTreeClassifier()</pre></div></div></div></div></div></div></div></div></div></div></div></div>"
      ],
      "text/plain": [
       "GridSearchCV(cv=5,\n",
       "             estimator=Pipeline(steps=[('trf1',\n",
       "                                        ColumnTransformer(remainder='passthrough',\n",
       "                                                          transformers=[('impute_age',\n",
       "                                                                         SimpleImputer(),\n",
       "                                                                         [2]),\n",
       "                                                                        ('impute_Embarked',\n",
       "                                                                         SimpleImputer(strategy='most_frequent'),\n",
       "                                                                         [6])])),\n",
       "                                       ('trf2',\n",
       "                                        ColumnTransformer(remainder='passthrough',\n",
       "                                                          transformers=[('ohe_sex_embarked',\n",
       "                                                                         OneHotEncoder(handle_unknown='ignore',\n",
       "                                                                                       sparse=False),\n",
       "                                                                         [1,\n",
       "                                                                          6])])),\n",
       "                                       ('trf3',\n",
       "                                        ColumnTransformer(transformers=[('scale',\n",
       "                                                                         MinMaxScaler(),\n",
       "                                                                         slice(0, 10, None))])),\n",
       "                                       ('trf4',\n",
       "                                        SelectKBest(k=8,\n",
       "                                                    score_func=<function chi2 at 0x0000020B0EBF8A60>)),\n",
       "                                       ('trf5', DecisionTreeClassifier())]),\n",
       "             param_grid={'trf5__max_depth': [1, 2, 3, 4, 5, None]},\n",
       "             scoring='accuracy')"
      ]
     },
     "execution_count": 29,
     "metadata": {},
     "output_type": "execute_result"
    }
   ],
   "source": [
    "from sklearn.model_selection import GridSearchCV\n",
    "grid = GridSearchCV(pipe, params, cv=5, scoring='accuracy')\n",
    "grid.fit(x_train, y_train)"
   ]
  },
  {
   "cell_type": "code",
   "execution_count": 30,
   "id": "af33a761",
   "metadata": {},
   "outputs": [
    {
     "data": {
      "text/plain": [
       "0.5884664631143505"
      ]
     },
     "execution_count": 30,
     "metadata": {},
     "output_type": "execute_result"
    }
   ],
   "source": [
    "grid.best_score_"
   ]
  },
  {
   "cell_type": "code",
   "execution_count": 31,
   "id": "d2e32558",
   "metadata": {},
   "outputs": [
    {
     "data": {
      "text/plain": [
       "{'trf5__max_depth': 1}"
      ]
     },
     "execution_count": 31,
     "metadata": {},
     "output_type": "execute_result"
    }
   ],
   "source": [
    "grid.best_params_"
   ]
  },
  {
   "cell_type": "markdown",
   "id": "477aaf8f",
   "metadata": {},
   "source": [
    "### Exporting the Pipeline"
   ]
  },
  {
   "cell_type": "code",
   "execution_count": 32,
   "id": "1bf87cb5",
   "metadata": {},
   "outputs": [],
   "source": [
    "# export \n",
    "import pickle\n",
    "pickle.dump(pipe,open('pipe.pkl','wb'))"
   ]
  }
 ],
 "metadata": {
  "kernelspec": {
   "display_name": "Python 3 (ipykernel)",
   "language": "python",
   "name": "python3"
  },
  "language_info": {
   "codemirror_mode": {
    "name": "ipython",
    "version": 3
   },
   "file_extension": ".py",
   "mimetype": "text/x-python",
   "name": "python",
   "nbconvert_exporter": "python",
   "pygments_lexer": "ipython3",
   "version": "3.9.7"
  }
 },
 "nbformat": 4,
 "nbformat_minor": 5
}
